{
 "cells": [
  {
   "cell_type": "code",
   "execution_count": 689,
   "metadata": {},
   "outputs": [],
   "source": [
    "import os\n",
    "from sshtunnel import SSHTunnelForwarder\n",
    "import pg as db\n",
    "import pandas as pd\n",
    "import re\n",
    "from sqlalchemy import create_engine\n",
    "import numpy as np\n",
    "import plotly as plotly\n",
    "import matplotlib.pyplot as plt\n",
    "import plotly.express as px\n",
    "import seaborn as sns\n",
    "%matplotlib inline\n",
    "\n",
    "host = 'prd-db.spot-internal'\n",
    "localhost = '127.0.0.1'\n",
    "ssh_username = os.environ['SPOT_SSH_USER']\n",
    "ssh_private_key = '/Users/david/.ssh/id_rsa'\n",
    "ssh_private_key_pwd = os.environ['SSH_PWD']\n",
    "\n",
    "intermediary=os.environ['SPOT_SSH_SERVER']\n",
    "user=os.environ['SPOT_DB_USER']\n",
    "password=os.environ['SPOT_DB_PW']\n",
    "\n",
    "database='trace_wood_delawareconnector'\n",
    "\n",
    "def query(q):\n",
    "    with SSHTunnelForwarder(\n",
    "    (intermediary, 22), \n",
    "    ssh_username=ssh_username,\n",
    "    ssh_pkey=ssh_private_key, \n",
    "    ssh_private_key_password=ssh_private_key_pwd,\n",
    "    remote_bind_address=(host,5432)) as server:\n",
    "\n",
    "        connstring = 'postgresql://{user}:{pwd}@{host}:{localport}/{database}'.format(\n",
    "            user=user,\n",
    "            pwd=password,\n",
    "            host=localhost,\n",
    "            localport=server.local_bind_port,\n",
    "            database=database)\n",
    "        \n",
    "        engine = create_engine(connstring)\n",
    "\n",
    "        try:\n",
    "            result = pd.read_sql_query(q, engine)\n",
    "        finally:\n",
    "            engine.dispose()\n",
    "\n",
    "        return result;"
   ]
  },
  {
   "cell_type": "code",
   "execution_count": 690,
   "metadata": {
    "scrolled": false
   },
   "outputs": [],
   "source": [
    "weld_numbers = query('select friendly_number as description from weld order by created_at asc')"
   ]
  },
  {
   "cell_type": "code",
   "execution_count": 723,
   "metadata": {},
   "outputs": [
    {
     "data": {
      "text/html": [
       "<div>\n",
       "<style scoped>\n",
       "    .dataframe tbody tr th:only-of-type {\n",
       "        vertical-align: middle;\n",
       "    }\n",
       "\n",
       "    .dataframe tbody tr th {\n",
       "        vertical-align: top;\n",
       "    }\n",
       "\n",
       "    .dataframe thead th {\n",
       "        text-align: right;\n",
       "    }\n",
       "</style>\n",
       "<table border=\"1\" class=\"dataframe\">\n",
       "  <thead>\n",
       "    <tr style=\"text-align: right;\">\n",
       "      <th></th>\n",
       "      <th>index</th>\n",
       "      <th>0</th>\n",
       "    </tr>\n",
       "  </thead>\n",
       "  <tbody>\n",
       "    <tr>\n",
       "      <th>153</th>\n",
       "      <td>8781</td>\n",
       "      <td>TW-0005-NDE-WELDPASS</td>\n",
       "    </tr>\n",
       "    <tr>\n",
       "      <th>777</th>\n",
       "      <td>8773</td>\n",
       "      <td>TI-0404-COAT-NDE</td>\n",
       "    </tr>\n",
       "    <tr>\n",
       "      <th>805</th>\n",
       "      <td>8464</td>\n",
       "      <td>FAB-0002</td>\n",
       "    </tr>\n",
       "  </tbody>\n",
       "</table>\n",
       "</div>"
      ],
      "text/plain": [
       "     index                     0\n",
       "153   8781  TW-0005-NDE-WELDPASS\n",
       "777   8773      TI-0404-COAT-NDE\n",
       "805   8464              FAB-0002"
      ]
     },
     "execution_count": 723,
     "metadata": {},
     "output_type": "execute_result"
    }
   ],
   "source": [
    "from sklearn.neighbors import LocalOutlierFactor\n",
    "from sklearn.model_selection import train_test_split\n",
    "from sklearn.preprocessing import StandardScaler\n",
    "\n",
    "# Create a simple method to quantify a weld string's characteristics. \n",
    "\n",
    "def weld_numerical_factor(description):\n",
    "    alpha = hash(re.sub('[0-9]', '', description))\n",
    "    numbers = re.sub('[^0-9]','',description);\n",
    "    numeric = len(numbers)\n",
    "    return [description, alpha, numeric]\n",
    "\n",
    "features = pd.DataFrame(weld_numbers['description'].apply(weld_numerical_factor).array)\n",
    "\n",
    "y = features[[0]]\n",
    "X = features.drop(0, axis=1)\n",
    "\n",
    "X_train, X_test, y_train, y_test = train_test_split(X, y, test_size=0.10)\n",
    "\n",
    "lof = LocalOutlierFactor(n_neighbors=3, novelty=True)\n",
    "lof.fit(X_train)\n",
    "y_pred = lof.predict(X_test)\n",
    "\n",
    "y_test.reset_index()[pd.Series(y_pred) == -1]"
   ]
  },
  {
   "cell_type": "code",
   "execution_count": null,
   "metadata": {},
   "outputs": [],
   "source": []
  }
 ],
 "metadata": {
  "kernelspec": {
   "display_name": "Python 3",
   "language": "python",
   "name": "python3"
  },
  "language_info": {
   "codemirror_mode": {
    "name": "ipython",
    "version": 3
   },
   "file_extension": ".py",
   "mimetype": "text/x-python",
   "name": "python",
   "nbconvert_exporter": "python",
   "pygments_lexer": "ipython3",
   "version": "3.7.3"
  }
 },
 "nbformat": 4,
 "nbformat_minor": 2
}
