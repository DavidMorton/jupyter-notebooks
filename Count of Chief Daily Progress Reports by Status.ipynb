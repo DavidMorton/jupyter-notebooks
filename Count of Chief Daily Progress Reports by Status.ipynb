{
 "cells": [
  {
   "cell_type": "code",
   "execution_count": 1,
   "metadata": {},
   "outputs": [],
   "source": [
    "# ssh variables\n",
    "\n",
    "import os\n",
    "from sshtunnel import SSHTunnelForwarder\n",
    "import pg as db\n",
    "import pandas as pd\n",
    "import re\n",
    "from sqlalchemy import create_engine\n",
    "import numpy as np\n",
    "import plotly as plotly\n",
    "import plotly.express as px\n",
    "%matplotlib inline\n",
    "\n",
    "host = 'prd-db.spot-internal'\n",
    "localhost = '127.0.0.1'\n",
    "ssh_username = os.environ['SPOT_SSH_USER']\n",
    "ssh_private_key = '/Users/david/.ssh/id_rsa'\n",
    "ssh_private_key_pwd = os.environ['SSH_PWD']\n",
    "\n",
    "intermediary=os.environ['SPOT_SSH_SERVER']\n",
    "user=os.environ['SPOT_DB_USER']\n",
    "password=os.environ['SPOT_DB_PW']\n",
    "\n",
    "database='trace_wood_delawareconnector'\n",
    "\n",
    "def query(q):\n",
    "    with SSHTunnelForwarder(\n",
    "    (intermediary, 22), \n",
    "    ssh_username=ssh_username,\n",
    "    ssh_pkey=ssh_private_key, \n",
    "    ssh_private_key_password=ssh_private_key_pwd,\n",
    "    remote_bind_address=(host,5432)) as server:\n",
    "\n",
    "        connstring = 'postgresql://{user}:{pwd}@{host}:{localport}/{database}'.format(\n",
    "            user=user,\n",
    "            pwd=password,\n",
    "            host=localhost,\n",
    "            localport=server.local_bind_port,\n",
    "            database=database)\n",
    "        \n",
    "        engine = create_engine(connstring)\n",
    "\n",
    "        try:\n",
    "            result = pd.read_sql_query(q, engine)\n",
    "        finally:\n",
    "            engine.dispose()\n",
    "\n",
    "        return result;"
   ]
  },
  {
   "cell_type": "code",
   "execution_count": 4,
   "metadata": {},
   "outputs": [],
   "source": [
    "db_dynamic_types = query('select * from dynamic_type_definition')"
   ]
  },
  {
   "cell_type": "code",
   "execution_count": 5,
   "metadata": {},
   "outputs": [
    {
     "data": {
      "text/html": [
       "<div>\n",
       "<style scoped>\n",
       "    .dataframe tbody tr th:only-of-type {\n",
       "        vertical-align: middle;\n",
       "    }\n",
       "\n",
       "    .dataframe tbody tr th {\n",
       "        vertical-align: top;\n",
       "    }\n",
       "\n",
       "    .dataframe thead th {\n",
       "        text-align: right;\n",
       "    }\n",
       "</style>\n",
       "<table border=\"1\" class=\"dataframe\">\n",
       "  <thead>\n",
       "    <tr style=\"text-align: right;\">\n",
       "      <th></th>\n",
       "      <th>id</th>\n",
       "      <th>table_name</th>\n",
       "      <th>description</th>\n",
       "      <th>slug</th>\n",
       "      <th>created_at</th>\n",
       "      <th>updated_at</th>\n",
       "      <th>deleted_at</th>\n",
       "      <th>category</th>\n",
       "      <th>subcategory</th>\n",
       "      <th>show_in_menu</th>\n",
       "      <th>...</th>\n",
       "      <th>template_name</th>\n",
       "      <th>workflow_enabled</th>\n",
       "      <th>workflow_id</th>\n",
       "      <th>previous_slug</th>\n",
       "      <th>html_template_uri</th>\n",
       "      <th>version</th>\n",
       "      <th>public_version</th>\n",
       "      <th>viewer_group_id</th>\n",
       "      <th>creator_group_id</th>\n",
       "      <th>default_assignee_id</th>\n",
       "    </tr>\n",
       "  </thead>\n",
       "  <tbody>\n",
       "    <tr>\n",
       "      <th>0</th>\n",
       "      <td>a6a5e027-ba2d-4774-aa68-66eb4b2d3577</td>\n",
       "      <td>_inspectionreport_description_two_subform</td>\n",
       "      <td>2.0 Action Items</td>\n",
       "      <td>inspection-report-description-two-subform</td>\n",
       "      <td>2019-03-21 13:40:15.406000+00:00</td>\n",
       "      <td>2019-06-07 14:23:54.865000+00:00</td>\n",
       "      <td>NaT</td>\n",
       "      <td>Forms</td>\n",
       "      <td>Wood Subform</td>\n",
       "      <td>False</td>\n",
       "      <td>...</td>\n",
       "      <td>None</td>\n",
       "      <td>False</td>\n",
       "      <td>None</td>\n",
       "      <td>None</td>\n",
       "      <td>None</td>\n",
       "      <td>74</td>\n",
       "      <td>1</td>\n",
       "      <td>88888888-8888-8888-8888-888888888888</td>\n",
       "      <td>88888888-8888-8888-8888-888888888888</td>\n",
       "      <td>00000000-0000-0000-0000-000000000001</td>\n",
       "    </tr>\n",
       "    <tr>\n",
       "      <th>1</th>\n",
       "      <td>248b9d96-3e27-4ba0-8da4-29cc4ad3e24a</td>\n",
       "      <td>_daily_inspection_report_and_summary_of_pipe_w...</td>\n",
       "      <td>PL0732: Daily Report and Summary of Pipe Welds...</td>\n",
       "      <td>daily-inspection-report-and-summary-of-pipe-welds</td>\n",
       "      <td>2019-03-21 12:58:58.045000+00:00</td>\n",
       "      <td>2019-08-12 18:02:37.114000+00:00</td>\n",
       "      <td>NaT</td>\n",
       "      <td>Forms</td>\n",
       "      <td>Exxon PL</td>\n",
       "      <td>True</td>\n",
       "      <td>...</td>\n",
       "      <td>PL0732 FINAL..pdf</td>\n",
       "      <td>True</td>\n",
       "      <td>88ac6388-5e5f-4a06-8df7-5d3f220e34b2</td>\n",
       "      <td>None</td>\n",
       "      <td>None</td>\n",
       "      <td>713</td>\n",
       "      <td>1</td>\n",
       "      <td>88888888-8888-8888-8888-888888888888</td>\n",
       "      <td>88888888-8888-8888-8888-888888888888</td>\n",
       "      <td>00000000-0000-0000-0000-000000000001</td>\n",
       "    </tr>\n",
       "    <tr>\n",
       "      <th>2</th>\n",
       "      <td>9f83f4e3-fe2c-4203-9d57-e55adbcf1740</td>\n",
       "      <td>_jeeping_daily_report</td>\n",
       "      <td>C12: Holiday Detection Report</td>\n",
       "      <td>jeeping-daily-report</td>\n",
       "      <td>2019-03-18 20:34:39.458000+00:00</td>\n",
       "      <td>2019-08-13 14:20:04.607000+00:00</td>\n",
       "      <td>NaT</td>\n",
       "      <td>Forms</td>\n",
       "      <td>Wood Pipeline</td>\n",
       "      <td>True</td>\n",
       "      <td>...</td>\n",
       "      <td>C12- Holiday Detection Report (1) (2).pdf</td>\n",
       "      <td>True</td>\n",
       "      <td>9334b10f-b906-493e-896f-f69b89da5ad7</td>\n",
       "      <td>None</td>\n",
       "      <td>None</td>\n",
       "      <td>541</td>\n",
       "      <td>1</td>\n",
       "      <td>88888888-8888-8888-8888-888888888888</td>\n",
       "      <td>88888888-8888-8888-8888-888888888888</td>\n",
       "      <td>00000000-0000-0000-0000-000000000001</td>\n",
       "    </tr>\n",
       "    <tr>\n",
       "      <th>3</th>\n",
       "      <td>c91fc4bc-5c31-4dc8-978a-8c1225b9ca88</td>\n",
       "      <td>_subform_welder_qualification_log</td>\n",
       "      <td>Subform Welder Qualification Log</td>\n",
       "      <td>subform-welder-qualification-log</td>\n",
       "      <td>2019-03-18 20:18:11.879000+00:00</td>\n",
       "      <td>2019-07-11 16:06:19.564000+00:00</td>\n",
       "      <td>NaT</td>\n",
       "      <td>Forms</td>\n",
       "      <td>Exxon Subform</td>\n",
       "      <td>False</td>\n",
       "      <td>...</td>\n",
       "      <td>None</td>\n",
       "      <td>False</td>\n",
       "      <td>None</td>\n",
       "      <td>None</td>\n",
       "      <td>None</td>\n",
       "      <td>430</td>\n",
       "      <td>1</td>\n",
       "      <td>88888888-8888-8888-8888-888888888888</td>\n",
       "      <td>88888888-8888-8888-8888-888888888888</td>\n",
       "      <td>00000000-0000-0000-0000-000000000001</td>\n",
       "    </tr>\n",
       "    <tr>\n",
       "      <th>4</th>\n",
       "      <td>29f42027-0ae7-415f-874c-1e52a65fcdea</td>\n",
       "      <td>_hvac0102_hvac_packaged_system_installation</td>\n",
       "      <td>HVAC-01-02: HVAC Packaged System Installation</td>\n",
       "      <td>hvac-01-02-hvac-packaged-system-installation</td>\n",
       "      <td>2019-04-30 03:31:04.235000+00:00</td>\n",
       "      <td>2019-06-12 12:32:03.573000+00:00</td>\n",
       "      <td>NaT</td>\n",
       "      <td>Forms</td>\n",
       "      <td>Review ITR Submissions</td>\n",
       "      <td>True</td>\n",
       "      <td>...</td>\n",
       "      <td>HVAC-01-02.pdf</td>\n",
       "      <td>True</td>\n",
       "      <td>9334b10f-b906-493e-896f-f69b89da5ad7</td>\n",
       "      <td>None</td>\n",
       "      <td>None</td>\n",
       "      <td>492</td>\n",
       "      <td>1</td>\n",
       "      <td>88888888-8888-8888-8888-888888888888</td>\n",
       "      <td>88888888-8888-8888-8888-888888888888</td>\n",
       "      <td>00000000-0000-0000-0000-000000000001</td>\n",
       "    </tr>\n",
       "  </tbody>\n",
       "</table>\n",
       "<p>5 rows × 27 columns</p>\n",
       "</div>"
      ],
      "text/plain": [
       "                                     id  \\\n",
       "0  a6a5e027-ba2d-4774-aa68-66eb4b2d3577   \n",
       "1  248b9d96-3e27-4ba0-8da4-29cc4ad3e24a   \n",
       "2  9f83f4e3-fe2c-4203-9d57-e55adbcf1740   \n",
       "3  c91fc4bc-5c31-4dc8-978a-8c1225b9ca88   \n",
       "4  29f42027-0ae7-415f-874c-1e52a65fcdea   \n",
       "\n",
       "                                          table_name  \\\n",
       "0          _inspectionreport_description_two_subform   \n",
       "1  _daily_inspection_report_and_summary_of_pipe_w...   \n",
       "2                              _jeeping_daily_report   \n",
       "3                  _subform_welder_qualification_log   \n",
       "4        _hvac0102_hvac_packaged_system_installation   \n",
       "\n",
       "                                         description  \\\n",
       "0                                   2.0 Action Items   \n",
       "1  PL0732: Daily Report and Summary of Pipe Welds...   \n",
       "2                      C12: Holiday Detection Report   \n",
       "3                   Subform Welder Qualification Log   \n",
       "4      HVAC-01-02: HVAC Packaged System Installation   \n",
       "\n",
       "                                                slug  \\\n",
       "0          inspection-report-description-two-subform   \n",
       "1  daily-inspection-report-and-summary-of-pipe-welds   \n",
       "2                               jeeping-daily-report   \n",
       "3                   subform-welder-qualification-log   \n",
       "4       hvac-01-02-hvac-packaged-system-installation   \n",
       "\n",
       "                        created_at                       updated_at  \\\n",
       "0 2019-03-21 13:40:15.406000+00:00 2019-06-07 14:23:54.865000+00:00   \n",
       "1 2019-03-21 12:58:58.045000+00:00 2019-08-12 18:02:37.114000+00:00   \n",
       "2 2019-03-18 20:34:39.458000+00:00 2019-08-13 14:20:04.607000+00:00   \n",
       "3 2019-03-18 20:18:11.879000+00:00 2019-07-11 16:06:19.564000+00:00   \n",
       "4 2019-04-30 03:31:04.235000+00:00 2019-06-12 12:32:03.573000+00:00   \n",
       "\n",
       "  deleted_at category             subcategory  show_in_menu  ...  \\\n",
       "0        NaT    Forms            Wood Subform         False  ...   \n",
       "1        NaT    Forms                Exxon PL          True  ...   \n",
       "2        NaT    Forms           Wood Pipeline          True  ...   \n",
       "3        NaT    Forms           Exxon Subform         False  ...   \n",
       "4        NaT    Forms  Review ITR Submissions          True  ...   \n",
       "\n",
       "                               template_name  workflow_enabled  \\\n",
       "0                                       None             False   \n",
       "1                          PL0732 FINAL..pdf              True   \n",
       "2  C12- Holiday Detection Report (1) (2).pdf              True   \n",
       "3                                       None             False   \n",
       "4                             HVAC-01-02.pdf              True   \n",
       "\n",
       "                            workflow_id previous_slug  html_template_uri  \\\n",
       "0                                  None          None               None   \n",
       "1  88ac6388-5e5f-4a06-8df7-5d3f220e34b2          None               None   \n",
       "2  9334b10f-b906-493e-896f-f69b89da5ad7          None               None   \n",
       "3                                  None          None               None   \n",
       "4  9334b10f-b906-493e-896f-f69b89da5ad7          None               None   \n",
       "\n",
       "  version public_version                       viewer_group_id  \\\n",
       "0      74              1  88888888-8888-8888-8888-888888888888   \n",
       "1     713              1  88888888-8888-8888-8888-888888888888   \n",
       "2     541              1  88888888-8888-8888-8888-888888888888   \n",
       "3     430              1  88888888-8888-8888-8888-888888888888   \n",
       "4     492              1  88888888-8888-8888-8888-888888888888   \n",
       "\n",
       "                       creator_group_id                   default_assignee_id  \n",
       "0  88888888-8888-8888-8888-888888888888  00000000-0000-0000-0000-000000000001  \n",
       "1  88888888-8888-8888-8888-888888888888  00000000-0000-0000-0000-000000000001  \n",
       "2  88888888-8888-8888-8888-888888888888  00000000-0000-0000-0000-000000000001  \n",
       "3  88888888-8888-8888-8888-888888888888  00000000-0000-0000-0000-000000000001  \n",
       "4  88888888-8888-8888-8888-888888888888  00000000-0000-0000-0000-000000000001  \n",
       "\n",
       "[5 rows x 27 columns]"
      ]
     },
     "execution_count": 5,
     "metadata": {},
     "output_type": "execute_result"
    }
   ],
   "source": [
    "db_dynamic_types.head()"
   ]
  },
  {
   "cell_type": "code",
   "execution_count": 7,
   "metadata": {},
   "outputs": [
    {
     "data": {
      "text/html": [
       "<div>\n",
       "<style scoped>\n",
       "    .dataframe tbody tr th:only-of-type {\n",
       "        vertical-align: middle;\n",
       "    }\n",
       "\n",
       "    .dataframe tbody tr th {\n",
       "        vertical-align: top;\n",
       "    }\n",
       "\n",
       "    .dataframe thead th {\n",
       "        text-align: right;\n",
       "    }\n",
       "</style>\n",
       "<table border=\"1\" class=\"dataframe\">\n",
       "  <thead>\n",
       "    <tr style=\"text-align: right;\">\n",
       "      <th></th>\n",
       "      <th>id</th>\n",
       "      <th>table_name</th>\n",
       "      <th>description</th>\n",
       "      <th>slug</th>\n",
       "      <th>created_at</th>\n",
       "      <th>updated_at</th>\n",
       "      <th>deleted_at</th>\n",
       "      <th>category</th>\n",
       "      <th>subcategory</th>\n",
       "      <th>show_in_menu</th>\n",
       "      <th>...</th>\n",
       "      <th>template_name</th>\n",
       "      <th>workflow_enabled</th>\n",
       "      <th>workflow_id</th>\n",
       "      <th>previous_slug</th>\n",
       "      <th>html_template_uri</th>\n",
       "      <th>version</th>\n",
       "      <th>public_version</th>\n",
       "      <th>viewer_group_id</th>\n",
       "      <th>creator_group_id</th>\n",
       "      <th>default_assignee_id</th>\n",
       "    </tr>\n",
       "  </thead>\n",
       "  <tbody>\n",
       "    <tr>\n",
       "      <th>128</th>\n",
       "      <td>21e5133a-bddb-4e62-99d8-38e22801c9c9</td>\n",
       "      <td>_chief_daily_report</td>\n",
       "      <td>Chief Daily Report</td>\n",
       "      <td>chief-daily-report</td>\n",
       "      <td>2018-12-14 18:56:14.216000+00:00</td>\n",
       "      <td>2019-08-12 18:02:35.682000+00:00</td>\n",
       "      <td>NaT</td>\n",
       "      <td>Forms</td>\n",
       "      <td>Wood Facilities</td>\n",
       "      <td>True</td>\n",
       "      <td>...</td>\n",
       "      <td>Chief Daily Report  (1).pdf</td>\n",
       "      <td>True</td>\n",
       "      <td>5d4bfdfc-0b8b-41d1-8bdb-fce72df0cb8c</td>\n",
       "      <td>None</td>\n",
       "      <td>1y2FcnJR8xaDVmt0VAdRmGh86eEmTVZo9</td>\n",
       "      <td>688</td>\n",
       "      <td>1</td>\n",
       "      <td>88888888-8888-8888-8888-888888888888</td>\n",
       "      <td>88888888-8888-8888-8888-888888888888</td>\n",
       "      <td>00000000-0000-0000-0000-000000000001</td>\n",
       "    </tr>\n",
       "  </tbody>\n",
       "</table>\n",
       "<p>1 rows × 27 columns</p>\n",
       "</div>"
      ],
      "text/plain": [
       "                                       id           table_name  \\\n",
       "128  21e5133a-bddb-4e62-99d8-38e22801c9c9  _chief_daily_report   \n",
       "\n",
       "            description                slug                       created_at  \\\n",
       "128  Chief Daily Report  chief-daily-report 2018-12-14 18:56:14.216000+00:00   \n",
       "\n",
       "                          updated_at deleted_at category      subcategory  \\\n",
       "128 2019-08-12 18:02:35.682000+00:00        NaT    Forms  Wood Facilities   \n",
       "\n",
       "     show_in_menu  ...                template_name  workflow_enabled  \\\n",
       "128          True  ...  Chief Daily Report  (1).pdf              True   \n",
       "\n",
       "                              workflow_id previous_slug  \\\n",
       "128  5d4bfdfc-0b8b-41d1-8bdb-fce72df0cb8c          None   \n",
       "\n",
       "                     html_template_uri version public_version  \\\n",
       "128  1y2FcnJR8xaDVmt0VAdRmGh86eEmTVZo9     688              1   \n",
       "\n",
       "                          viewer_group_id  \\\n",
       "128  88888888-8888-8888-8888-888888888888   \n",
       "\n",
       "                         creator_group_id  \\\n",
       "128  88888888-8888-8888-8888-888888888888   \n",
       "\n",
       "                      default_assignee_id  \n",
       "128  00000000-0000-0000-0000-000000000001  \n",
       "\n",
       "[1 rows x 27 columns]"
      ]
     },
     "execution_count": 7,
     "metadata": {},
     "output_type": "execute_result"
    }
   ],
   "source": [
    "db_dynamic_types[db_dynamic_types['description'].apply(lambda x:('Chief' in x))]"
   ]
  },
  {
   "cell_type": "code",
   "execution_count": 8,
   "metadata": {},
   "outputs": [],
   "source": [
    "db_chief_daily_report = query('select * from _chief_daily_report')"
   ]
  },
  {
   "cell_type": "code",
   "execution_count": 9,
   "metadata": {},
   "outputs": [
    {
     "data": {
      "text/html": [
       "<div>\n",
       "<style scoped>\n",
       "    .dataframe tbody tr th:only-of-type {\n",
       "        vertical-align: middle;\n",
       "    }\n",
       "\n",
       "    .dataframe tbody tr th {\n",
       "        vertical-align: top;\n",
       "    }\n",
       "\n",
       "    .dataframe thead th {\n",
       "        text-align: right;\n",
       "    }\n",
       "</style>\n",
       "<table border=\"1\" class=\"dataframe\">\n",
       "  <thead>\n",
       "    <tr style=\"text-align: right;\">\n",
       "      <th></th>\n",
       "      <th>id</th>\n",
       "      <th>type</th>\n",
       "      <th>created_at</th>\n",
       "      <th>updated_at</th>\n",
       "      <th>deleted_at</th>\n",
       "      <th>description</th>\n",
       "      <th>friendly_number</th>\n",
       "      <th>folder_id</th>\n",
       "      <th>modified_by</th>\n",
       "      <th>location_id</th>\n",
       "      <th>...</th>\n",
       "      <th>company_rep_signature_date</th>\n",
       "      <th>locked</th>\n",
       "      <th>status_id</th>\n",
       "      <th>region</th>\n",
       "      <th>pipeline_no</th>\n",
       "      <th>state</th>\n",
       "      <th>location_corridor</th>\n",
       "      <th>cost_center</th>\n",
       "      <th>project_manager</th>\n",
       "      <th>workflow_history</th>\n",
       "    </tr>\n",
       "  </thead>\n",
       "  <tbody>\n",
       "    <tr>\n",
       "      <th>0</th>\n",
       "      <td>5b5db719-4147-49c9-8686-65ba524c01f8</td>\n",
       "      <td>_chief_daily_report</td>\n",
       "      <td>2019-04-27 18:03:26.424000+00:00</td>\n",
       "      <td>2019-08-15 20:32:05.156000+00:00</td>\n",
       "      <td>NaT</td>\n",
       "      <td>Chief Daily Report 7</td>\n",
       "      <td>7</td>\n",
       "      <td>1opM1eZ1Tb9SLbOaRcUYiZTodAUWW6UKX</td>\n",
       "      <td>92012b84-d657-46c9-8d16-e5efb9dbc718</td>\n",
       "      <td>None</td>\n",
       "      <td>...</td>\n",
       "      <td>None</td>\n",
       "      <td>2019-04-27 19:48:32.095000+00:00</td>\n",
       "      <td>fcf8c015-515d-4f9f-b591-2a2e49b21d5b</td>\n",
       "      <td>West, TX</td>\n",
       "      <td>Wink ST</td>\n",
       "      <td>TX</td>\n",
       "      <td>DC-Fac</td>\n",
       "      <td>130754</td>\n",
       "      <td>Brian Kuta</td>\n",
       "      <td>[{'date': '2019-04-27T17:58:06.800Z', 'statusI...</td>\n",
       "    </tr>\n",
       "    <tr>\n",
       "      <th>1</th>\n",
       "      <td>0ef9475e-affc-427d-b4b4-f7e8e885bce2</td>\n",
       "      <td>_chief_daily_report</td>\n",
       "      <td>2019-03-09 21:51:46.677000+00:00</td>\n",
       "      <td>2019-08-15 20:31:56.701000+00:00</td>\n",
       "      <td>NaT</td>\n",
       "      <td>Chief Daily Report 2</td>\n",
       "      <td>2</td>\n",
       "      <td>19YOGRFCTjuZl9znHJ_-YYf5dBMUJ4EEd</td>\n",
       "      <td>92012b84-d657-46c9-8d16-e5efb9dbc718</td>\n",
       "      <td>None</td>\n",
       "      <td>...</td>\n",
       "      <td>None</td>\n",
       "      <td>2019-03-09 21:52:11.400000+00:00</td>\n",
       "      <td>fcf8c015-515d-4f9f-b591-2a2e49b21d5b</td>\n",
       "      <td>None</td>\n",
       "      <td>None</td>\n",
       "      <td>None</td>\n",
       "      <td>None</td>\n",
       "      <td>None</td>\n",
       "      <td>None</td>\n",
       "      <td>[{'date': '2019-03-09T21:52:52.900Z', 'statusI...</td>\n",
       "    </tr>\n",
       "    <tr>\n",
       "      <th>2</th>\n",
       "      <td>c67e00a5-3f2b-42cf-b9a8-9c693ed18804</td>\n",
       "      <td>_chief_daily_report</td>\n",
       "      <td>2019-04-27 18:03:27.804000+00:00</td>\n",
       "      <td>2019-08-15 20:32:21.225000+00:00</td>\n",
       "      <td>NaT</td>\n",
       "      <td>Chief Daily Report 8</td>\n",
       "      <td>8</td>\n",
       "      <td>1Ju2g6fNhV8NzZk-PZxOWN0GgiHfpoT5N</td>\n",
       "      <td>92012b84-d657-46c9-8d16-e5efb9dbc718</td>\n",
       "      <td>None</td>\n",
       "      <td>...</td>\n",
       "      <td>None</td>\n",
       "      <td>2019-04-27 19:36:48.868000+00:00</td>\n",
       "      <td>fcf8c015-515d-4f9f-b591-2a2e49b21d5b</td>\n",
       "      <td>West, TX</td>\n",
       "      <td>Wink ST</td>\n",
       "      <td>TX</td>\n",
       "      <td>DC-Fac</td>\n",
       "      <td>130754</td>\n",
       "      <td>Brian Kuta</td>\n",
       "      <td>[{'date': '2019-04-27T17:59:39.000Z', 'statusI...</td>\n",
       "    </tr>\n",
       "    <tr>\n",
       "      <th>3</th>\n",
       "      <td>82f1bf38-a10e-41a0-bbe4-168c47fc5a10</td>\n",
       "      <td>_chief_daily_report</td>\n",
       "      <td>2019-01-28 20:15:37.515000+00:00</td>\n",
       "      <td>2019-01-29 20:58:10.890000+00:00</td>\n",
       "      <td>2019-01-29 20:58:10.910000+00:00</td>\n",
       "      <td>Chief Daily Report 1</td>\n",
       "      <td>1</td>\n",
       "      <td>None</td>\n",
       "      <td>d9d06a2d-7044-4147-a8f2-cf6d3eb5cb86</td>\n",
       "      <td>None</td>\n",
       "      <td>...</td>\n",
       "      <td>None</td>\n",
       "      <td>NaT</td>\n",
       "      <td>be8f911e-d496-4ed7-94b8-49bd5fa16e93</td>\n",
       "      <td>None</td>\n",
       "      <td>None</td>\n",
       "      <td>None</td>\n",
       "      <td>None</td>\n",
       "      <td>None</td>\n",
       "      <td>None</td>\n",
       "      <td>None</td>\n",
       "    </tr>\n",
       "    <tr>\n",
       "      <th>4</th>\n",
       "      <td>aabb5b6e-eb4b-4edc-889a-27dd525fbbf3</td>\n",
       "      <td>_chief_daily_report</td>\n",
       "      <td>2019-01-24 22:48:09.902000+00:00</td>\n",
       "      <td>2019-01-29 20:58:29.124000+00:00</td>\n",
       "      <td>2019-01-29 20:58:29.141000+00:00</td>\n",
       "      <td>Chief Daily Report 1</td>\n",
       "      <td>1</td>\n",
       "      <td>None</td>\n",
       "      <td>bd169b15-6bbc-4514-9cb0-d919d44f353c</td>\n",
       "      <td>None</td>\n",
       "      <td>...</td>\n",
       "      <td>None</td>\n",
       "      <td>NaT</td>\n",
       "      <td>be8f911e-d496-4ed7-94b8-49bd5fa16e93</td>\n",
       "      <td>None</td>\n",
       "      <td>None</td>\n",
       "      <td>None</td>\n",
       "      <td>None</td>\n",
       "      <td>None</td>\n",
       "      <td>None</td>\n",
       "      <td>None</td>\n",
       "    </tr>\n",
       "  </tbody>\n",
       "</table>\n",
       "<p>5 rows × 65 columns</p>\n",
       "</div>"
      ],
      "text/plain": [
       "                                     id                 type  \\\n",
       "0  5b5db719-4147-49c9-8686-65ba524c01f8  _chief_daily_report   \n",
       "1  0ef9475e-affc-427d-b4b4-f7e8e885bce2  _chief_daily_report   \n",
       "2  c67e00a5-3f2b-42cf-b9a8-9c693ed18804  _chief_daily_report   \n",
       "3  82f1bf38-a10e-41a0-bbe4-168c47fc5a10  _chief_daily_report   \n",
       "4  aabb5b6e-eb4b-4edc-889a-27dd525fbbf3  _chief_daily_report   \n",
       "\n",
       "                        created_at                       updated_at  \\\n",
       "0 2019-04-27 18:03:26.424000+00:00 2019-08-15 20:32:05.156000+00:00   \n",
       "1 2019-03-09 21:51:46.677000+00:00 2019-08-15 20:31:56.701000+00:00   \n",
       "2 2019-04-27 18:03:27.804000+00:00 2019-08-15 20:32:21.225000+00:00   \n",
       "3 2019-01-28 20:15:37.515000+00:00 2019-01-29 20:58:10.890000+00:00   \n",
       "4 2019-01-24 22:48:09.902000+00:00 2019-01-29 20:58:29.124000+00:00   \n",
       "\n",
       "                        deleted_at           description friendly_number  \\\n",
       "0                              NaT  Chief Daily Report 7               7   \n",
       "1                              NaT  Chief Daily Report 2               2   \n",
       "2                              NaT  Chief Daily Report 8               8   \n",
       "3 2019-01-29 20:58:10.910000+00:00  Chief Daily Report 1               1   \n",
       "4 2019-01-29 20:58:29.141000+00:00  Chief Daily Report 1               1   \n",
       "\n",
       "                           folder_id                           modified_by  \\\n",
       "0  1opM1eZ1Tb9SLbOaRcUYiZTodAUWW6UKX  92012b84-d657-46c9-8d16-e5efb9dbc718   \n",
       "1  19YOGRFCTjuZl9znHJ_-YYf5dBMUJ4EEd  92012b84-d657-46c9-8d16-e5efb9dbc718   \n",
       "2  1Ju2g6fNhV8NzZk-PZxOWN0GgiHfpoT5N  92012b84-d657-46c9-8d16-e5efb9dbc718   \n",
       "3                               None  d9d06a2d-7044-4147-a8f2-cf6d3eb5cb86   \n",
       "4                               None  bd169b15-6bbc-4514-9cb0-d919d44f353c   \n",
       "\n",
       "  location_id  ... company_rep_signature_date  \\\n",
       "0        None  ...                       None   \n",
       "1        None  ...                       None   \n",
       "2        None  ...                       None   \n",
       "3        None  ...                       None   \n",
       "4        None  ...                       None   \n",
       "\n",
       "                            locked                             status_id  \\\n",
       "0 2019-04-27 19:48:32.095000+00:00  fcf8c015-515d-4f9f-b591-2a2e49b21d5b   \n",
       "1 2019-03-09 21:52:11.400000+00:00  fcf8c015-515d-4f9f-b591-2a2e49b21d5b   \n",
       "2 2019-04-27 19:36:48.868000+00:00  fcf8c015-515d-4f9f-b591-2a2e49b21d5b   \n",
       "3                              NaT  be8f911e-d496-4ed7-94b8-49bd5fa16e93   \n",
       "4                              NaT  be8f911e-d496-4ed7-94b8-49bd5fa16e93   \n",
       "\n",
       "     region pipeline_no state  location_corridor cost_center project_manager  \\\n",
       "0  West, TX     Wink ST    TX             DC-Fac      130754      Brian Kuta   \n",
       "1      None        None  None               None        None            None   \n",
       "2  West, TX     Wink ST    TX             DC-Fac      130754      Brian Kuta   \n",
       "3      None        None  None               None        None            None   \n",
       "4      None        None  None               None        None            None   \n",
       "\n",
       "                                    workflow_history  \n",
       "0  [{'date': '2019-04-27T17:58:06.800Z', 'statusI...  \n",
       "1  [{'date': '2019-03-09T21:52:52.900Z', 'statusI...  \n",
       "2  [{'date': '2019-04-27T17:59:39.000Z', 'statusI...  \n",
       "3                                               None  \n",
       "4                                               None  \n",
       "\n",
       "[5 rows x 65 columns]"
      ]
     },
     "execution_count": 9,
     "metadata": {},
     "output_type": "execute_result"
    }
   ],
   "source": [
    "db_chief_daily_report.head()"
   ]
  },
  {
   "cell_type": "code",
   "execution_count": 10,
   "metadata": {},
   "outputs": [],
   "source": [
    "db_statuses = query('select * From dynamic_workflow_status')"
   ]
  },
  {
   "cell_type": "code",
   "execution_count": 11,
   "metadata": {},
   "outputs": [
    {
     "data": {
      "text/html": [
       "<div>\n",
       "<style scoped>\n",
       "    .dataframe tbody tr th:only-of-type {\n",
       "        vertical-align: middle;\n",
       "    }\n",
       "\n",
       "    .dataframe tbody tr th {\n",
       "        vertical-align: top;\n",
       "    }\n",
       "\n",
       "    .dataframe thead th {\n",
       "        text-align: right;\n",
       "    }\n",
       "</style>\n",
       "<table border=\"1\" class=\"dataframe\">\n",
       "  <thead>\n",
       "    <tr style=\"text-align: right;\">\n",
       "      <th></th>\n",
       "      <th>id</th>\n",
       "      <th>name</th>\n",
       "      <th>created_at</th>\n",
       "      <th>updated_at</th>\n",
       "      <th>deleted_at</th>\n",
       "    </tr>\n",
       "  </thead>\n",
       "  <tbody>\n",
       "    <tr>\n",
       "      <th>0</th>\n",
       "      <td>be8f911e-d496-4ed7-94b8-49bd5fa16e93</td>\n",
       "      <td>Pending</td>\n",
       "      <td>2019-02-07 16:30:29.189000+00:00</td>\n",
       "      <td>2019-02-07 16:30:29.189000+00:00</td>\n",
       "      <td>None</td>\n",
       "    </tr>\n",
       "    <tr>\n",
       "      <th>1</th>\n",
       "      <td>e7b7c5cf-a43d-4940-bf1d-1e0da7531a8e</td>\n",
       "      <td>Submitted</td>\n",
       "      <td>2019-02-07 16:30:29.198000+00:00</td>\n",
       "      <td>2019-02-07 16:30:29.198000+00:00</td>\n",
       "      <td>None</td>\n",
       "    </tr>\n",
       "    <tr>\n",
       "      <th>2</th>\n",
       "      <td>0c0854e7-85a8-4c26-b034-808f3bc2db0b</td>\n",
       "      <td>Re-Submitted</td>\n",
       "      <td>2019-02-07 16:30:29.216000+00:00</td>\n",
       "      <td>2019-02-07 16:30:29.216000+00:00</td>\n",
       "      <td>None</td>\n",
       "    </tr>\n",
       "    <tr>\n",
       "      <th>3</th>\n",
       "      <td>996356d1-1d09-477a-98fc-d3189b5f4a7e</td>\n",
       "      <td>Wood Rejected</td>\n",
       "      <td>2019-02-07 16:30:29.208000+00:00</td>\n",
       "      <td>2019-03-12 15:56:45.083000+00:00</td>\n",
       "      <td>None</td>\n",
       "    </tr>\n",
       "    <tr>\n",
       "      <th>4</th>\n",
       "      <td>5e299e51-e408-46a4-9df0-37cdbdc478e4</td>\n",
       "      <td>Wood Approved</td>\n",
       "      <td>2019-02-07 16:30:29.223000+00:00</td>\n",
       "      <td>2019-03-12 15:56:53.446000+00:00</td>\n",
       "      <td>None</td>\n",
       "    </tr>\n",
       "  </tbody>\n",
       "</table>\n",
       "</div>"
      ],
      "text/plain": [
       "                                     id           name  \\\n",
       "0  be8f911e-d496-4ed7-94b8-49bd5fa16e93        Pending   \n",
       "1  e7b7c5cf-a43d-4940-bf1d-1e0da7531a8e      Submitted   \n",
       "2  0c0854e7-85a8-4c26-b034-808f3bc2db0b   Re-Submitted   \n",
       "3  996356d1-1d09-477a-98fc-d3189b5f4a7e  Wood Rejected   \n",
       "4  5e299e51-e408-46a4-9df0-37cdbdc478e4  Wood Approved   \n",
       "\n",
       "                        created_at                       updated_at deleted_at  \n",
       "0 2019-02-07 16:30:29.189000+00:00 2019-02-07 16:30:29.189000+00:00       None  \n",
       "1 2019-02-07 16:30:29.198000+00:00 2019-02-07 16:30:29.198000+00:00       None  \n",
       "2 2019-02-07 16:30:29.216000+00:00 2019-02-07 16:30:29.216000+00:00       None  \n",
       "3 2019-02-07 16:30:29.208000+00:00 2019-03-12 15:56:45.083000+00:00       None  \n",
       "4 2019-02-07 16:30:29.223000+00:00 2019-03-12 15:56:53.446000+00:00       None  "
      ]
     },
     "execution_count": 11,
     "metadata": {},
     "output_type": "execute_result"
    }
   ],
   "source": [
    "db_statuses.head()"
   ]
  },
  {
   "cell_type": "code",
   "execution_count": 25,
   "metadata": {},
   "outputs": [],
   "source": [
    "plotvalues = pd.DataFrame(db_chief_daily_report.merge(db_statuses[['id','name']].rename(columns={'id':'status_id','name':'status_name'}), on='status_id')['status_name'].value_counts()).reset_index()"
   ]
  },
  {
   "cell_type": "code",
   "execution_count": 27,
   "metadata": {},
   "outputs": [
    {
     "data": {
      "text/html": [
       "<div>\n",
       "<style scoped>\n",
       "    .dataframe tbody tr th:only-of-type {\n",
       "        vertical-align: middle;\n",
       "    }\n",
       "\n",
       "    .dataframe tbody tr th {\n",
       "        vertical-align: top;\n",
       "    }\n",
       "\n",
       "    .dataframe thead th {\n",
       "        text-align: right;\n",
       "    }\n",
       "</style>\n",
       "<table border=\"1\" class=\"dataframe\">\n",
       "  <thead>\n",
       "    <tr style=\"text-align: right;\">\n",
       "      <th></th>\n",
       "      <th>index</th>\n",
       "      <th>status_name</th>\n",
       "    </tr>\n",
       "  </thead>\n",
       "  <tbody>\n",
       "    <tr>\n",
       "      <th>0</th>\n",
       "      <td>Sr. Approved</td>\n",
       "      <td>122</td>\n",
       "    </tr>\n",
       "    <tr>\n",
       "      <th>1</th>\n",
       "      <td>Pending</td>\n",
       "      <td>5</td>\n",
       "    </tr>\n",
       "    <tr>\n",
       "      <th>2</th>\n",
       "      <td>Wood Rejected</td>\n",
       "      <td>1</td>\n",
       "    </tr>\n",
       "  </tbody>\n",
       "</table>\n",
       "</div>"
      ],
      "text/plain": [
       "           index  status_name\n",
       "0   Sr. Approved          122\n",
       "1        Pending            5\n",
       "2  Wood Rejected            1"
      ]
     },
     "execution_count": 27,
     "metadata": {},
     "output_type": "execute_result"
    }
   ],
   "source": [
    "plotvalues.head()"
   ]
  },
  {
   "cell_type": "code",
   "execution_count": 37,
   "metadata": {},
   "outputs": [
    {
     "data": {
      "application/vnd.plotly.v1+json": {
       "config": {
        "plotlyServerURL": "https://plot.ly"
       },
       "data": [
        {
         "alignmentgroup": "True",
         "hoverlabel": {
          "namelength": 0
         },
         "hovertemplate": "Status=%{x}<br>Count=%{y}",
         "legendgroup": "",
         "marker": {
          "color": "#636efa"
         },
         "name": "",
         "offsetgroup": "",
         "orientation": "v",
         "showlegend": false,
         "textposition": "auto",
         "type": "bar",
         "x": [
          "Sr. Approved",
          "Pending",
          "Wood Rejected"
         ],
         "xaxis": "x",
         "y": [
          122,
          5,
          1
         ],
         "yaxis": "y"
        }
       ],
       "layout": {
        "barmode": "relative",
        "height": 600,
        "legend": {
         "tracegroupgap": 0
        },
        "template": {
         "data": {
          "bar": [
           {
            "error_x": {
             "color": "#2a3f5f"
            },
            "error_y": {
             "color": "#2a3f5f"
            },
            "marker": {
             "line": {
              "color": "#E5ECF6",
              "width": 0.5
             }
            },
            "type": "bar"
           }
          ],
          "barpolar": [
           {
            "marker": {
             "line": {
              "color": "#E5ECF6",
              "width": 0.5
             }
            },
            "type": "barpolar"
           }
          ],
          "carpet": [
           {
            "aaxis": {
             "endlinecolor": "#2a3f5f",
             "gridcolor": "white",
             "linecolor": "white",
             "minorgridcolor": "white",
             "startlinecolor": "#2a3f5f"
            },
            "baxis": {
             "endlinecolor": "#2a3f5f",
             "gridcolor": "white",
             "linecolor": "white",
             "minorgridcolor": "white",
             "startlinecolor": "#2a3f5f"
            },
            "type": "carpet"
           }
          ],
          "choropleth": [
           {
            "colorbar": {
             "outlinewidth": 0,
             "ticks": ""
            },
            "type": "choropleth"
           }
          ],
          "contour": [
           {
            "colorbar": {
             "outlinewidth": 0,
             "ticks": ""
            },
            "colorscale": [
             [
              0,
              "#0d0887"
             ],
             [
              0.1111111111111111,
              "#46039f"
             ],
             [
              0.2222222222222222,
              "#7201a8"
             ],
             [
              0.3333333333333333,
              "#9c179e"
             ],
             [
              0.4444444444444444,
              "#bd3786"
             ],
             [
              0.5555555555555556,
              "#d8576b"
             ],
             [
              0.6666666666666666,
              "#ed7953"
             ],
             [
              0.7777777777777778,
              "#fb9f3a"
             ],
             [
              0.8888888888888888,
              "#fdca26"
             ],
             [
              1,
              "#f0f921"
             ]
            ],
            "type": "contour"
           }
          ],
          "contourcarpet": [
           {
            "colorbar": {
             "outlinewidth": 0,
             "ticks": ""
            },
            "type": "contourcarpet"
           }
          ],
          "heatmap": [
           {
            "colorbar": {
             "outlinewidth": 0,
             "ticks": ""
            },
            "colorscale": [
             [
              0,
              "#0d0887"
             ],
             [
              0.1111111111111111,
              "#46039f"
             ],
             [
              0.2222222222222222,
              "#7201a8"
             ],
             [
              0.3333333333333333,
              "#9c179e"
             ],
             [
              0.4444444444444444,
              "#bd3786"
             ],
             [
              0.5555555555555556,
              "#d8576b"
             ],
             [
              0.6666666666666666,
              "#ed7953"
             ],
             [
              0.7777777777777778,
              "#fb9f3a"
             ],
             [
              0.8888888888888888,
              "#fdca26"
             ],
             [
              1,
              "#f0f921"
             ]
            ],
            "type": "heatmap"
           }
          ],
          "heatmapgl": [
           {
            "colorbar": {
             "outlinewidth": 0,
             "ticks": ""
            },
            "colorscale": [
             [
              0,
              "#0d0887"
             ],
             [
              0.1111111111111111,
              "#46039f"
             ],
             [
              0.2222222222222222,
              "#7201a8"
             ],
             [
              0.3333333333333333,
              "#9c179e"
             ],
             [
              0.4444444444444444,
              "#bd3786"
             ],
             [
              0.5555555555555556,
              "#d8576b"
             ],
             [
              0.6666666666666666,
              "#ed7953"
             ],
             [
              0.7777777777777778,
              "#fb9f3a"
             ],
             [
              0.8888888888888888,
              "#fdca26"
             ],
             [
              1,
              "#f0f921"
             ]
            ],
            "type": "heatmapgl"
           }
          ],
          "histogram": [
           {
            "marker": {
             "colorbar": {
              "outlinewidth": 0,
              "ticks": ""
             }
            },
            "type": "histogram"
           }
          ],
          "histogram2d": [
           {
            "colorbar": {
             "outlinewidth": 0,
             "ticks": ""
            },
            "colorscale": [
             [
              0,
              "#0d0887"
             ],
             [
              0.1111111111111111,
              "#46039f"
             ],
             [
              0.2222222222222222,
              "#7201a8"
             ],
             [
              0.3333333333333333,
              "#9c179e"
             ],
             [
              0.4444444444444444,
              "#bd3786"
             ],
             [
              0.5555555555555556,
              "#d8576b"
             ],
             [
              0.6666666666666666,
              "#ed7953"
             ],
             [
              0.7777777777777778,
              "#fb9f3a"
             ],
             [
              0.8888888888888888,
              "#fdca26"
             ],
             [
              1,
              "#f0f921"
             ]
            ],
            "type": "histogram2d"
           }
          ],
          "histogram2dcontour": [
           {
            "colorbar": {
             "outlinewidth": 0,
             "ticks": ""
            },
            "colorscale": [
             [
              0,
              "#0d0887"
             ],
             [
              0.1111111111111111,
              "#46039f"
             ],
             [
              0.2222222222222222,
              "#7201a8"
             ],
             [
              0.3333333333333333,
              "#9c179e"
             ],
             [
              0.4444444444444444,
              "#bd3786"
             ],
             [
              0.5555555555555556,
              "#d8576b"
             ],
             [
              0.6666666666666666,
              "#ed7953"
             ],
             [
              0.7777777777777778,
              "#fb9f3a"
             ],
             [
              0.8888888888888888,
              "#fdca26"
             ],
             [
              1,
              "#f0f921"
             ]
            ],
            "type": "histogram2dcontour"
           }
          ],
          "mesh3d": [
           {
            "colorbar": {
             "outlinewidth": 0,
             "ticks": ""
            },
            "type": "mesh3d"
           }
          ],
          "parcoords": [
           {
            "line": {
             "colorbar": {
              "outlinewidth": 0,
              "ticks": ""
             }
            },
            "type": "parcoords"
           }
          ],
          "scatter": [
           {
            "marker": {
             "colorbar": {
              "outlinewidth": 0,
              "ticks": ""
             }
            },
            "type": "scatter"
           }
          ],
          "scatter3d": [
           {
            "line": {
             "colorbar": {
              "outlinewidth": 0,
              "ticks": ""
             }
            },
            "marker": {
             "colorbar": {
              "outlinewidth": 0,
              "ticks": ""
             }
            },
            "type": "scatter3d"
           }
          ],
          "scattercarpet": [
           {
            "marker": {
             "colorbar": {
              "outlinewidth": 0,
              "ticks": ""
             }
            },
            "type": "scattercarpet"
           }
          ],
          "scattergeo": [
           {
            "marker": {
             "colorbar": {
              "outlinewidth": 0,
              "ticks": ""
             }
            },
            "type": "scattergeo"
           }
          ],
          "scattergl": [
           {
            "marker": {
             "colorbar": {
              "outlinewidth": 0,
              "ticks": ""
             }
            },
            "type": "scattergl"
           }
          ],
          "scattermapbox": [
           {
            "marker": {
             "colorbar": {
              "outlinewidth": 0,
              "ticks": ""
             }
            },
            "type": "scattermapbox"
           }
          ],
          "scatterpolar": [
           {
            "marker": {
             "colorbar": {
              "outlinewidth": 0,
              "ticks": ""
             }
            },
            "type": "scatterpolar"
           }
          ],
          "scatterpolargl": [
           {
            "marker": {
             "colorbar": {
              "outlinewidth": 0,
              "ticks": ""
             }
            },
            "type": "scatterpolargl"
           }
          ],
          "scatterternary": [
           {
            "marker": {
             "colorbar": {
              "outlinewidth": 0,
              "ticks": ""
             }
            },
            "type": "scatterternary"
           }
          ],
          "surface": [
           {
            "colorbar": {
             "outlinewidth": 0,
             "ticks": ""
            },
            "colorscale": [
             [
              0,
              "#0d0887"
             ],
             [
              0.1111111111111111,
              "#46039f"
             ],
             [
              0.2222222222222222,
              "#7201a8"
             ],
             [
              0.3333333333333333,
              "#9c179e"
             ],
             [
              0.4444444444444444,
              "#bd3786"
             ],
             [
              0.5555555555555556,
              "#d8576b"
             ],
             [
              0.6666666666666666,
              "#ed7953"
             ],
             [
              0.7777777777777778,
              "#fb9f3a"
             ],
             [
              0.8888888888888888,
              "#fdca26"
             ],
             [
              1,
              "#f0f921"
             ]
            ],
            "type": "surface"
           }
          ],
          "table": [
           {
            "cells": {
             "fill": {
              "color": "#EBF0F8"
             },
             "line": {
              "color": "white"
             }
            },
            "header": {
             "fill": {
              "color": "#C8D4E3"
             },
             "line": {
              "color": "white"
             }
            },
            "type": "table"
           }
          ]
         },
         "layout": {
          "annotationdefaults": {
           "arrowcolor": "#2a3f5f",
           "arrowhead": 0,
           "arrowwidth": 1
          },
          "colorscale": {
           "diverging": [
            [
             0,
             "#8e0152"
            ],
            [
             0.1,
             "#c51b7d"
            ],
            [
             0.2,
             "#de77ae"
            ],
            [
             0.3,
             "#f1b6da"
            ],
            [
             0.4,
             "#fde0ef"
            ],
            [
             0.5,
             "#f7f7f7"
            ],
            [
             0.6,
             "#e6f5d0"
            ],
            [
             0.7,
             "#b8e186"
            ],
            [
             0.8,
             "#7fbc41"
            ],
            [
             0.9,
             "#4d9221"
            ],
            [
             1,
             "#276419"
            ]
           ],
           "sequential": [
            [
             0,
             "#0d0887"
            ],
            [
             0.1111111111111111,
             "#46039f"
            ],
            [
             0.2222222222222222,
             "#7201a8"
            ],
            [
             0.3333333333333333,
             "#9c179e"
            ],
            [
             0.4444444444444444,
             "#bd3786"
            ],
            [
             0.5555555555555556,
             "#d8576b"
            ],
            [
             0.6666666666666666,
             "#ed7953"
            ],
            [
             0.7777777777777778,
             "#fb9f3a"
            ],
            [
             0.8888888888888888,
             "#fdca26"
            ],
            [
             1,
             "#f0f921"
            ]
           ],
           "sequentialminus": [
            [
             0,
             "#0d0887"
            ],
            [
             0.1111111111111111,
             "#46039f"
            ],
            [
             0.2222222222222222,
             "#7201a8"
            ],
            [
             0.3333333333333333,
             "#9c179e"
            ],
            [
             0.4444444444444444,
             "#bd3786"
            ],
            [
             0.5555555555555556,
             "#d8576b"
            ],
            [
             0.6666666666666666,
             "#ed7953"
            ],
            [
             0.7777777777777778,
             "#fb9f3a"
            ],
            [
             0.8888888888888888,
             "#fdca26"
            ],
            [
             1,
             "#f0f921"
            ]
           ]
          },
          "colorway": [
           "#636efa",
           "#EF553B",
           "#00cc96",
           "#ab63fa",
           "#FFA15A",
           "#19d3f3",
           "#FF6692",
           "#B6E880",
           "#FF97FF",
           "#FECB52"
          ],
          "font": {
           "color": "#2a3f5f"
          },
          "geo": {
           "bgcolor": "white",
           "lakecolor": "white",
           "landcolor": "#E5ECF6",
           "showlakes": true,
           "showland": true,
           "subunitcolor": "white"
          },
          "hoverlabel": {
           "align": "left"
          },
          "hovermode": "closest",
          "mapbox": {
           "style": "light"
          },
          "paper_bgcolor": "white",
          "plot_bgcolor": "#E5ECF6",
          "polar": {
           "angularaxis": {
            "gridcolor": "white",
            "linecolor": "white",
            "ticks": ""
           },
           "bgcolor": "#E5ECF6",
           "radialaxis": {
            "gridcolor": "white",
            "linecolor": "white",
            "ticks": ""
           }
          },
          "scene": {
           "xaxis": {
            "backgroundcolor": "#E5ECF6",
            "gridcolor": "white",
            "gridwidth": 2,
            "linecolor": "white",
            "showbackground": true,
            "ticks": "",
            "zerolinecolor": "white"
           },
           "yaxis": {
            "backgroundcolor": "#E5ECF6",
            "gridcolor": "white",
            "gridwidth": 2,
            "linecolor": "white",
            "showbackground": true,
            "ticks": "",
            "zerolinecolor": "white"
           },
           "zaxis": {
            "backgroundcolor": "#E5ECF6",
            "gridcolor": "white",
            "gridwidth": 2,
            "linecolor": "white",
            "showbackground": true,
            "ticks": "",
            "zerolinecolor": "white"
           }
          },
          "shapedefaults": {
           "line": {
            "color": "#2a3f5f"
           }
          },
          "ternary": {
           "aaxis": {
            "gridcolor": "white",
            "linecolor": "white",
            "ticks": ""
           },
           "baxis": {
            "gridcolor": "white",
            "linecolor": "white",
            "ticks": ""
           },
           "bgcolor": "#E5ECF6",
           "caxis": {
            "gridcolor": "white",
            "linecolor": "white",
            "ticks": ""
           }
          },
          "title": {
           "x": 0.05
          },
          "xaxis": {
           "automargin": true,
           "gridcolor": "white",
           "linecolor": "white",
           "ticks": "",
           "zerolinecolor": "white",
           "zerolinewidth": 2
          },
          "yaxis": {
           "automargin": true,
           "gridcolor": "white",
           "linecolor": "white",
           "ticks": "",
           "zerolinecolor": "white",
           "zerolinewidth": 2
          }
         }
        },
        "title": {
         "text": "Daily Chief Report Current Status"
        },
        "xaxis": {
         "anchor": "y",
         "domain": [
          0,
          0.98
         ],
         "title": {
          "text": "Status"
         }
        },
        "yaxis": {
         "anchor": "x",
         "domain": [
          0,
          1
         ],
         "title": {
          "text": "Count"
         }
        }
       }
      },
      "text/html": [
       "<div>\n",
       "        \n",
       "        \n",
       "            <div id=\"6bc4080f-d056-4c72-843f-a05b8b7be415\" class=\"plotly-graph-div\" style=\"height:600px; width:100%;\"></div>\n",
       "            <script type=\"text/javascript\">\n",
       "                require([\"plotly\"], function(Plotly) {\n",
       "                    window.PLOTLYENV=window.PLOTLYENV || {};\n",
       "                    \n",
       "                if (document.getElementById(\"6bc4080f-d056-4c72-843f-a05b8b7be415\")) {\n",
       "                    Plotly.newPlot(\n",
       "                        '6bc4080f-d056-4c72-843f-a05b8b7be415',\n",
       "                        [{\"alignmentgroup\": \"True\", \"hoverlabel\": {\"namelength\": 0}, \"hovertemplate\": \"Status=%{x}<br>Count=%{y}\", \"legendgroup\": \"\", \"marker\": {\"color\": \"#636efa\"}, \"name\": \"\", \"offsetgroup\": \"\", \"orientation\": \"v\", \"showlegend\": false, \"textposition\": \"auto\", \"type\": \"bar\", \"x\": [\"Sr. Approved\", \"Pending\", \"Wood Rejected\"], \"xaxis\": \"x\", \"y\": [122, 5, 1], \"yaxis\": \"y\"}],\n",
       "                        {\"barmode\": \"relative\", \"height\": 600, \"legend\": {\"tracegroupgap\": 0}, \"template\": {\"data\": {\"bar\": [{\"error_x\": {\"color\": \"#2a3f5f\"}, \"error_y\": {\"color\": \"#2a3f5f\"}, \"marker\": {\"line\": {\"color\": \"#E5ECF6\", \"width\": 0.5}}, \"type\": \"bar\"}], \"barpolar\": [{\"marker\": {\"line\": {\"color\": \"#E5ECF6\", \"width\": 0.5}}, \"type\": \"barpolar\"}], \"carpet\": [{\"aaxis\": {\"endlinecolor\": \"#2a3f5f\", \"gridcolor\": \"white\", \"linecolor\": \"white\", \"minorgridcolor\": \"white\", \"startlinecolor\": \"#2a3f5f\"}, \"baxis\": {\"endlinecolor\": \"#2a3f5f\", \"gridcolor\": \"white\", \"linecolor\": \"white\", \"minorgridcolor\": \"white\", \"startlinecolor\": \"#2a3f5f\"}, \"type\": \"carpet\"}], \"choropleth\": [{\"colorbar\": {\"outlinewidth\": 0, \"ticks\": \"\"}, \"type\": \"choropleth\"}], \"contour\": [{\"colorbar\": {\"outlinewidth\": 0, \"ticks\": \"\"}, \"colorscale\": [[0.0, \"#0d0887\"], [0.1111111111111111, \"#46039f\"], [0.2222222222222222, \"#7201a8\"], [0.3333333333333333, \"#9c179e\"], [0.4444444444444444, \"#bd3786\"], [0.5555555555555556, \"#d8576b\"], [0.6666666666666666, \"#ed7953\"], [0.7777777777777778, \"#fb9f3a\"], [0.8888888888888888, \"#fdca26\"], [1.0, \"#f0f921\"]], \"type\": \"contour\"}], \"contourcarpet\": [{\"colorbar\": {\"outlinewidth\": 0, \"ticks\": \"\"}, \"type\": \"contourcarpet\"}], \"heatmap\": [{\"colorbar\": {\"outlinewidth\": 0, \"ticks\": \"\"}, \"colorscale\": [[0.0, \"#0d0887\"], [0.1111111111111111, \"#46039f\"], [0.2222222222222222, \"#7201a8\"], [0.3333333333333333, \"#9c179e\"], [0.4444444444444444, \"#bd3786\"], [0.5555555555555556, \"#d8576b\"], [0.6666666666666666, \"#ed7953\"], [0.7777777777777778, \"#fb9f3a\"], [0.8888888888888888, \"#fdca26\"], [1.0, \"#f0f921\"]], \"type\": \"heatmap\"}], \"heatmapgl\": [{\"colorbar\": {\"outlinewidth\": 0, \"ticks\": \"\"}, \"colorscale\": [[0.0, \"#0d0887\"], [0.1111111111111111, \"#46039f\"], [0.2222222222222222, \"#7201a8\"], [0.3333333333333333, \"#9c179e\"], [0.4444444444444444, \"#bd3786\"], [0.5555555555555556, \"#d8576b\"], [0.6666666666666666, \"#ed7953\"], [0.7777777777777778, \"#fb9f3a\"], [0.8888888888888888, \"#fdca26\"], [1.0, \"#f0f921\"]], \"type\": \"heatmapgl\"}], \"histogram\": [{\"marker\": {\"colorbar\": {\"outlinewidth\": 0, \"ticks\": \"\"}}, \"type\": \"histogram\"}], \"histogram2d\": [{\"colorbar\": {\"outlinewidth\": 0, \"ticks\": \"\"}, \"colorscale\": [[0.0, \"#0d0887\"], [0.1111111111111111, \"#46039f\"], [0.2222222222222222, \"#7201a8\"], [0.3333333333333333, \"#9c179e\"], [0.4444444444444444, \"#bd3786\"], [0.5555555555555556, \"#d8576b\"], [0.6666666666666666, \"#ed7953\"], [0.7777777777777778, \"#fb9f3a\"], [0.8888888888888888, \"#fdca26\"], [1.0, \"#f0f921\"]], \"type\": \"histogram2d\"}], \"histogram2dcontour\": [{\"colorbar\": {\"outlinewidth\": 0, \"ticks\": \"\"}, \"colorscale\": [[0.0, \"#0d0887\"], [0.1111111111111111, \"#46039f\"], [0.2222222222222222, \"#7201a8\"], [0.3333333333333333, \"#9c179e\"], [0.4444444444444444, \"#bd3786\"], [0.5555555555555556, \"#d8576b\"], [0.6666666666666666, \"#ed7953\"], [0.7777777777777778, \"#fb9f3a\"], [0.8888888888888888, \"#fdca26\"], [1.0, \"#f0f921\"]], \"type\": \"histogram2dcontour\"}], \"mesh3d\": [{\"colorbar\": {\"outlinewidth\": 0, \"ticks\": \"\"}, \"type\": \"mesh3d\"}], \"parcoords\": [{\"line\": {\"colorbar\": {\"outlinewidth\": 0, \"ticks\": \"\"}}, \"type\": \"parcoords\"}], \"scatter\": [{\"marker\": {\"colorbar\": {\"outlinewidth\": 0, \"ticks\": \"\"}}, \"type\": \"scatter\"}], \"scatter3d\": [{\"line\": {\"colorbar\": {\"outlinewidth\": 0, \"ticks\": \"\"}}, \"marker\": {\"colorbar\": {\"outlinewidth\": 0, \"ticks\": \"\"}}, \"type\": \"scatter3d\"}], \"scattercarpet\": [{\"marker\": {\"colorbar\": {\"outlinewidth\": 0, \"ticks\": \"\"}}, \"type\": \"scattercarpet\"}], \"scattergeo\": [{\"marker\": {\"colorbar\": {\"outlinewidth\": 0, \"ticks\": \"\"}}, \"type\": \"scattergeo\"}], \"scattergl\": [{\"marker\": {\"colorbar\": {\"outlinewidth\": 0, \"ticks\": \"\"}}, \"type\": \"scattergl\"}], \"scattermapbox\": [{\"marker\": {\"colorbar\": {\"outlinewidth\": 0, \"ticks\": \"\"}}, \"type\": \"scattermapbox\"}], \"scatterpolar\": [{\"marker\": {\"colorbar\": {\"outlinewidth\": 0, \"ticks\": \"\"}}, \"type\": \"scatterpolar\"}], \"scatterpolargl\": [{\"marker\": {\"colorbar\": {\"outlinewidth\": 0, \"ticks\": \"\"}}, \"type\": \"scatterpolargl\"}], \"scatterternary\": [{\"marker\": {\"colorbar\": {\"outlinewidth\": 0, \"ticks\": \"\"}}, \"type\": \"scatterternary\"}], \"surface\": [{\"colorbar\": {\"outlinewidth\": 0, \"ticks\": \"\"}, \"colorscale\": [[0.0, \"#0d0887\"], [0.1111111111111111, \"#46039f\"], [0.2222222222222222, \"#7201a8\"], [0.3333333333333333, \"#9c179e\"], [0.4444444444444444, \"#bd3786\"], [0.5555555555555556, \"#d8576b\"], [0.6666666666666666, \"#ed7953\"], [0.7777777777777778, \"#fb9f3a\"], [0.8888888888888888, \"#fdca26\"], [1.0, \"#f0f921\"]], \"type\": \"surface\"}], \"table\": [{\"cells\": {\"fill\": {\"color\": \"#EBF0F8\"}, \"line\": {\"color\": \"white\"}}, \"header\": {\"fill\": {\"color\": \"#C8D4E3\"}, \"line\": {\"color\": \"white\"}}, \"type\": \"table\"}]}, \"layout\": {\"annotationdefaults\": {\"arrowcolor\": \"#2a3f5f\", \"arrowhead\": 0, \"arrowwidth\": 1}, \"colorscale\": {\"diverging\": [[0, \"#8e0152\"], [0.1, \"#c51b7d\"], [0.2, \"#de77ae\"], [0.3, \"#f1b6da\"], [0.4, \"#fde0ef\"], [0.5, \"#f7f7f7\"], [0.6, \"#e6f5d0\"], [0.7, \"#b8e186\"], [0.8, \"#7fbc41\"], [0.9, \"#4d9221\"], [1, \"#276419\"]], \"sequential\": [[0.0, \"#0d0887\"], [0.1111111111111111, \"#46039f\"], [0.2222222222222222, \"#7201a8\"], [0.3333333333333333, \"#9c179e\"], [0.4444444444444444, \"#bd3786\"], [0.5555555555555556, \"#d8576b\"], [0.6666666666666666, \"#ed7953\"], [0.7777777777777778, \"#fb9f3a\"], [0.8888888888888888, \"#fdca26\"], [1.0, \"#f0f921\"]], \"sequentialminus\": [[0.0, \"#0d0887\"], [0.1111111111111111, \"#46039f\"], [0.2222222222222222, \"#7201a8\"], [0.3333333333333333, \"#9c179e\"], [0.4444444444444444, \"#bd3786\"], [0.5555555555555556, \"#d8576b\"], [0.6666666666666666, \"#ed7953\"], [0.7777777777777778, \"#fb9f3a\"], [0.8888888888888888, \"#fdca26\"], [1.0, \"#f0f921\"]]}, \"colorway\": [\"#636efa\", \"#EF553B\", \"#00cc96\", \"#ab63fa\", \"#FFA15A\", \"#19d3f3\", \"#FF6692\", \"#B6E880\", \"#FF97FF\", \"#FECB52\"], \"font\": {\"color\": \"#2a3f5f\"}, \"geo\": {\"bgcolor\": \"white\", \"lakecolor\": \"white\", \"landcolor\": \"#E5ECF6\", \"showlakes\": true, \"showland\": true, \"subunitcolor\": \"white\"}, \"hoverlabel\": {\"align\": \"left\"}, \"hovermode\": \"closest\", \"mapbox\": {\"style\": \"light\"}, \"paper_bgcolor\": \"white\", \"plot_bgcolor\": \"#E5ECF6\", \"polar\": {\"angularaxis\": {\"gridcolor\": \"white\", \"linecolor\": \"white\", \"ticks\": \"\"}, \"bgcolor\": \"#E5ECF6\", \"radialaxis\": {\"gridcolor\": \"white\", \"linecolor\": \"white\", \"ticks\": \"\"}}, \"scene\": {\"xaxis\": {\"backgroundcolor\": \"#E5ECF6\", \"gridcolor\": \"white\", \"gridwidth\": 2, \"linecolor\": \"white\", \"showbackground\": true, \"ticks\": \"\", \"zerolinecolor\": \"white\"}, \"yaxis\": {\"backgroundcolor\": \"#E5ECF6\", \"gridcolor\": \"white\", \"gridwidth\": 2, \"linecolor\": \"white\", \"showbackground\": true, \"ticks\": \"\", \"zerolinecolor\": \"white\"}, \"zaxis\": {\"backgroundcolor\": \"#E5ECF6\", \"gridcolor\": \"white\", \"gridwidth\": 2, \"linecolor\": \"white\", \"showbackground\": true, \"ticks\": \"\", \"zerolinecolor\": \"white\"}}, \"shapedefaults\": {\"line\": {\"color\": \"#2a3f5f\"}}, \"ternary\": {\"aaxis\": {\"gridcolor\": \"white\", \"linecolor\": \"white\", \"ticks\": \"\"}, \"baxis\": {\"gridcolor\": \"white\", \"linecolor\": \"white\", \"ticks\": \"\"}, \"bgcolor\": \"#E5ECF6\", \"caxis\": {\"gridcolor\": \"white\", \"linecolor\": \"white\", \"ticks\": \"\"}}, \"title\": {\"x\": 0.05}, \"xaxis\": {\"automargin\": true, \"gridcolor\": \"white\", \"linecolor\": \"white\", \"ticks\": \"\", \"zerolinecolor\": \"white\", \"zerolinewidth\": 2}, \"yaxis\": {\"automargin\": true, \"gridcolor\": \"white\", \"linecolor\": \"white\", \"ticks\": \"\", \"zerolinecolor\": \"white\", \"zerolinewidth\": 2}}}, \"title\": {\"text\": \"Daily Chief Report Current Status\"}, \"xaxis\": {\"anchor\": \"y\", \"domain\": [0.0, 0.98], \"title\": {\"text\": \"Status\"}}, \"yaxis\": {\"anchor\": \"x\", \"domain\": [0.0, 1.0], \"title\": {\"text\": \"Count\"}}},\n",
       "                        {\"responsive\": true}\n",
       "                    ).then(function(){\n",
       "                            \n",
       "var gd = document.getElementById('6bc4080f-d056-4c72-843f-a05b8b7be415');\n",
       "var x = new MutationObserver(function (mutations, observer) {{\n",
       "        var display = window.getComputedStyle(gd).display;\n",
       "        if (!display || display === 'none') {{\n",
       "            console.log([gd, 'removed!']);\n",
       "            Plotly.purge(gd);\n",
       "            observer.disconnect();\n",
       "        }}\n",
       "}});\n",
       "\n",
       "// Listen for the removal of the full notebook cells\n",
       "var notebookContainer = gd.closest('#notebook-container');\n",
       "if (notebookContainer) {{\n",
       "    x.observe(notebookContainer, {childList: true});\n",
       "}}\n",
       "\n",
       "// Listen for the clearing of the current output cell\n",
       "var outputEl = gd.closest('.output');\n",
       "if (outputEl) {{\n",
       "    x.observe(outputEl, {childList: true});\n",
       "}}\n",
       "\n",
       "                        })\n",
       "                };\n",
       "                });\n",
       "            </script>\n",
       "        </div>"
      ]
     },
     "metadata": {},
     "output_type": "display_data"
    }
   ],
   "source": [
    "px.bar(data_frame=plotvalues.rename_axis({'index':'Status','status_name':'Count'},axis=1),x='Status',y='Count',title='Daily Chief Report Current Status')"
   ]
  },
  {
   "cell_type": "code",
   "execution_count": 36,
   "metadata": {},
   "outputs": [
    {
     "data": {
      "text/html": [
       "<div>\n",
       "<style scoped>\n",
       "    .dataframe tbody tr th:only-of-type {\n",
       "        vertical-align: middle;\n",
       "    }\n",
       "\n",
       "    .dataframe tbody tr th {\n",
       "        vertical-align: top;\n",
       "    }\n",
       "\n",
       "    .dataframe thead th {\n",
       "        text-align: right;\n",
       "    }\n",
       "</style>\n",
       "<table border=\"1\" class=\"dataframe\">\n",
       "  <thead>\n",
       "    <tr style=\"text-align: right;\">\n",
       "      <th></th>\n",
       "      <th>Status</th>\n",
       "      <th>Count</th>\n",
       "    </tr>\n",
       "  </thead>\n",
       "  <tbody>\n",
       "    <tr>\n",
       "      <th>0</th>\n",
       "      <td>Sr. Approved</td>\n",
       "      <td>122</td>\n",
       "    </tr>\n",
       "    <tr>\n",
       "      <th>1</th>\n",
       "      <td>Pending</td>\n",
       "      <td>5</td>\n",
       "    </tr>\n",
       "    <tr>\n",
       "      <th>2</th>\n",
       "      <td>Wood Rejected</td>\n",
       "      <td>1</td>\n",
       "    </tr>\n",
       "  </tbody>\n",
       "</table>\n",
       "</div>"
      ],
      "text/plain": [
       "          Status  Count\n",
       "0   Sr. Approved    122\n",
       "1        Pending      5\n",
       "2  Wood Rejected      1"
      ]
     },
     "execution_count": 36,
     "metadata": {},
     "output_type": "execute_result"
    }
   ],
   "source": [
    "plotvalues.rename_axis({'index':'Status','status_name':'Count'},axis=1)"
   ]
  },
  {
   "cell_type": "code",
   "execution_count": null,
   "metadata": {},
   "outputs": [],
   "source": []
  }
 ],
 "metadata": {
  "kernelspec": {
   "display_name": "Python 3",
   "language": "python",
   "name": "python3"
  },
  "language_info": {
   "codemirror_mode": {
    "name": "ipython",
    "version": 3
   },
   "file_extension": ".py",
   "mimetype": "text/x-python",
   "name": "python",
   "nbconvert_exporter": "python",
   "pygments_lexer": "ipython3",
   "version": "3.7.3"
  }
 },
 "nbformat": 4,
 "nbformat_minor": 2
}
